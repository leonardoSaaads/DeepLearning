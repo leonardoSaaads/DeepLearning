{
 "cells": [
  {
   "cell_type": "markdown",
   "metadata": {},
   "source": [
    "# **HANDS-ON 5: Criando um Modelo Simplificado de Camadas - Dense Layer**\n",
    "\n",
    "Até agora utilizamos o que é chamado de camadas totalmente conectadas. Em inglês, a terminologia para essas camadas na programação e em artigos é \"Dense\". Como demonstrado no site da biblioteca Keras:\n",
    "\n",
    "```\n",
    "Dense implementa a operação: output = activation(dot(input, kernel) + bias) onde ativação é a função de ativação por elemento passada como argumento de ativação, kernel é uma matriz de pesos criada pela camada e bias é um vetor de bias criado pela camada (aplicável apenas se use_bias for True). Estes são todos os atributos de Densos.\n",
    "```\n",
    "\n",
    "# NECESSÁRIO IMPLEMENTAR"
   ]
  },
  {
   "cell_type": "code",
   "execution_count": null,
   "metadata": {},
   "outputs": [],
   "source": [
    "import numpy as np\n",
    "\n",
    "\n",
    "class Layer_Dense:\n",
    "    def __init__(self, n_inputs, n_neurons):\n",
    "    # Initialize weights and biases\n",
    "        pass # using pass statement as a placeholder\n",
    "\n",
    "    # Forward pass\n",
    "    def forward(self, inputs):\n",
    "    # Calculate output values from inputs, weights and biases\n",
    "        pass # using pass statement as a placeholder\n"
   ]
  }
 ],
 "metadata": {
  "interpreter": {
   "hash": "83db9ccd60aaba7f36d82c7c8a804da99e0bc213c9e856efe6e157fa32ac376b"
  },
  "kernelspec": {
   "display_name": "Python 3.9.0 64-bit",
   "language": "python",
   "name": "python3"
  },
  "language_info": {
   "name": "python",
   "version": "3.9.0"
  },
  "orig_nbformat": 4
 },
 "nbformat": 4,
 "nbformat_minor": 2
}
