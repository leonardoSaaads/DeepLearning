{
 "cells": [
  {
   "cell_type": "markdown",
   "metadata": {},
   "source": [
    "# **HANDS-ON 3: Criando os Primeiros Neurônios (Parte 1)**\n",
    "\n",
    "Como vimos anteriormente, as redes neurais artificiais foram criadas com base em um cérebro orgânico. Apesar dos dois sistemas serem essencialmente diferentes, podemos realizar algumas comparações: Ambos possuem um elemento chamado de neurônio - palavra que deriva do grego e significa \"nervo\" - e que servem para a propagação/modificação de sinais.\n",
    "\n",
    "![](../Imagens/Unidade%201/modelo_neuronio.png)\n",
    "\n",
    "Link da imagem: [Clique Aqui](https://en.wikipedia.org/wiki/Artificial_neuron#/media/File:Neuron3.svg)\n",
    "\n",
    "Um único neurônio não é capaz de realizar grandes operações, contudo, quando em operação com diveros outros neurônios, o sistema adquire a robustez de operacionalizar tarefas complexas. Na imagem abaixo, temos um exemplo de rede neuronal.\n",
    "\n",
    "![](../Imagens/Unidade%201/exemplo_rede_neural.png)\n",
    "\n"
   ]
  },
  {
   "cell_type": "markdown",
   "metadata": {},
   "source": [
    "No decorrer do repositório, iremos utilizar a teoria Hebbeliana, isto é, um aumento na eficácia sináptica surge da estimulação repetida e persistente de uma célula pré-sináptica de uma célula pós-sináptica. O princípio de Hebb pode ser descrito como um método para determinar como alterar os pesos entre os neurônios modelo. O peso entre dois neurônios aumenta se os dois neurônios forem ativados simultaneamente e reduz se eles forem ativados separadamente. Os nós que tendem a ser positivos ou negativos ao mesmo tempo têm pesos positivos fortes, enquanto aqueles que tendem a ser opostos têm pesos negativos fortes.\n",
    "\n",
    "![](../Imagens/Unidade%201/exemplo_neuronio.png)\n",
    "\n",
    "Iremos utilizar a imagem acima para codificar o primeiro neurônio. Note podemos expressar a saida como sendo uma função - que o neurônio realiza - sobre cada entrada multiplicada pelo seu respectivo peso. Se denotarmos as entradas por $x[n]$, os pesos por $w[n]$ e $b$ uma constante, então:\n",
    "\n",
    "$$OUTPUT = x[1] \\cdot w[1] + x[2] \\cdot w[2] + x[3] \\cdot w[3] + \\cdots + x[n] \\cdot w[n] + b$$\n",
    "\n",
    "### **Exemplo 01 - O primeiro neurônio:**"
   ]
  },
  {
   "cell_type": "code",
   "execution_count": 1,
   "metadata": {},
   "outputs": [
    {
     "name": "stdout",
     "output_type": "stream",
     "text": [
      "A saida de seu neurônio é: 5.03\n"
     ]
    }
   ],
   "source": [
    "input = [0, 1, 2]          # Entradas (Inputs) que serão feitas\n",
    "weight = [0.9, -1.3, 1.5]  # Pesos (Weights) que estão associados a cada entrada\n",
    "bias = 3.33                # Bias (Viés/Constante)\n",
    "\n",
    "# Saida\n",
    "output = (input[0]*weight[0] +\n",
    "          input[1]*weight[1] +\n",
    "          input[2]*weight[2] + bias)\n",
    "\n",
    "# Printa a saida do neurônio\n",
    "print(f'A saida de seu neurônio é: {output}')"
   ]
  },
  {
   "cell_type": "markdown",
   "metadata": {},
   "source": [
    "Agora que entendemos como podemos programar um neurônio, iremos verificar como podemos expandir esse conceito e construir mais de um nerurônio. Neste segundo exemplo, iremos programar 4 neurônios. Quando tratamos de mais neurônios que estão recebendo o mesmo input, podemos designar esses neruônios como sendo uma **Camada de Neurônios**.\n",
    "\n",
    "### **Exemplo 02 - Camada de Quatro Neurônios**"
   ]
  },
  {
   "cell_type": "code",
   "execution_count": 2,
   "metadata": {},
   "outputs": [
    {
     "name": "stdout",
     "output_type": "stream",
     "text": [
      "A saida do primeiro neurônio é: 5.03\n",
      "A saida do segundo neurônio é: 5.84\n",
      "A saida do terceiro neurônio é: 3.9200000000000004\n",
      "A saida do quarto neurônio é: 2.1100000000000003\n"
     ]
    }
   ],
   "source": [
    "input = [0, 1, 2]           # Entradas (Inputs) que serão feitas\n",
    "\n",
    "weight_0 = [0.9, -1.3, 1.5] # Pesos (Weights) do primeiro neurônio\n",
    "weight_1 = [0.8, -1.4, 1.4] # Pesos (Weights) do segundo neurônio\n",
    "weight_2 = [0.7, -1.5, 1.6] # Pesos (Weights) do terceiro neurônio\n",
    "weight_3 = [0.6, -1.6, 1.3] # Pesos (Weights) do quarto neurônio\n",
    "\n",
    "bias_0 = 3.33               # Bias (Viés/Constante) do primeiro neurônio\n",
    "bias_1 = 4.44               # Bias (Viés/Constante) do segundo neurônio\n",
    "bias_2 = 2.22               # Bias (Viés/Constante) do terceiro neurônio\n",
    "bias_3 = 1.11               # Bias (Viés/Constante) do quarto neurônio\n",
    "\n",
    "# Primeiro Neurônio\n",
    "output_0 = (input[0]*weight_0[0] +\n",
    "            input[1]*weight_0[1] +\n",
    "            input[2]*weight_0[2] + bias_0)\n",
    "\n",
    "# Segundo Neurônio\n",
    "output_1 = (input[0]*weight_1[0] +\n",
    "            input[1]*weight_1[1] +\n",
    "            input[2]*weight_1[2] + bias_1)\n",
    "\n",
    "# Terceiro Neurônio\n",
    "output_2 = (input[0]*weight_2[0] +\n",
    "            input[1]*weight_2[1] +\n",
    "            input[2]*weight_2[2] + bias_2)\n",
    "\n",
    "# Quarto Neurônio\n",
    "output_3 = (input[0]*weight_3[0] +\n",
    "            input[1]*weight_3[1] +\n",
    "            input[2]*weight_3[2] + bias_3)\n",
    "\n",
    "print(f'A saida do primeiro neurônio é: {output_0}')\n",
    "print(f'A saida do segundo neurônio é: {output_1}')\n",
    "print(f'A saida do terceiro neurônio é: {output_2}')\n",
    "print(f'A saida do quarto neurônio é: {output_3}')"
   ]
  },
  {
   "cell_type": "markdown",
   "metadata": {},
   "source": [
    "### **Exemplo 3 - Camada de Quarenta Neurônios**\n",
    "\n",
    "Para programarmos 40 neurônios, iremos mudar a abordagem e automzatizar os resultados com a biblioteca **Random**."
   ]
  },
  {
   "cell_type": "code",
   "execution_count": 3,
   "metadata": {},
   "outputs": [
    {
     "name": "stdout",
     "output_type": "stream",
     "text": [
      "[3.212858016230293, 4.128871731132441, 4.6338788496050345, 2.841545200339788, 3.092314268649024, 3.909172806314699, 4.787128514587836, 3.056746380274377, 3.6881110728505764, 2.8666841894299386, 4.427106475562238, 2.9320401639751146, 3.1294000743583394, 4.078922538206195, 3.3311281701025424, 4.755110421101739, 3.737407863906919, 3.516057568846551, 2.909407738699346, 3.382583992883277, 3.172055778660596, 2.395732162589892, 3.254070688289673, 3.3152064773086742, 3.715391801574861, 3.5313061465524993, 4.191283962539592, 4.297768768641436, 2.911047414406927, 5.107968194573737, 2.893754277059803, 3.9696218151302913, 3.8227084321315354, 2.867492091076654, 3.1612223206759236, 2.850991627354425, 2.4525869635286788, 3.489096864912044, 2.6585029279932866, 3.7404782364915796]\n"
     ]
    }
   ],
   "source": [
    "# Importando bibliotecas\n",
    "from random import random as rnd\n",
    "\n",
    "inputs = [rnd() for i in range(10)]                          # Gerando 10 números aleatórios de inputs \n",
    "weights = {i: [rnd() for j in range(10)] for i in range(40)} # Criando 40 neurônios com pesos aleatórios\n",
    "bias = [rnd() for i in range(40)]                            # Criando 10 viés/constantes com valores aleatórios\n",
    "\n",
    "# OBS: Foi utilizado o modelo de dicionários na hora de montar os pesos. Porém,\n",
    "# muitas vezes é um utilizado um modelo de lista de listas.\n",
    "\n",
    "saidas = []                                                  # Lista de saídas\n",
    "for neuron_wright, neuron_bias in zip(weights.values(), bias):\n",
    "    saidas.append(sum([i*j for i, j in zip(inputs, neuron_wright)]) + neuron_bias)\n",
    "\n",
    "print(saidas)"
   ]
  },
  {
   "cell_type": "markdown",
   "metadata": {},
   "source": [
    "Como podemos ver, realizar manualmente a programação dos naurônios é custoso e, devido a esse pressuposto, iremos utilizar a biblioteca **NumPy**. NumPy é uma biblioteca que suporta o processamento de grandes dados, multi-dimensionais arranjos e matrizes, juntamente com uma grande coleção de funções matemáticas de alto nível para operar sobre esses entes. \n",
    "\n",
    "Além de poupar tempo na programação, NumPy é uma biblioteca que foi desenvolvida para otimizar atividades em Python.\n",
    "* O pacote NumPy divide uma tarefa em vários fragmentos e processa todos os fragmentos paralelamente.\n",
    "* O pacote NumPy integra códigos C, C++ e Fortran em Python. Essas linguagens de programação têm muito pouco tempo de execução em comparação com o Python.\n",
    "\n",
    "Note que nessa modelagem, podemos assumir que os pesos multiplicados pelos inputs são um **produto escalar.** Seja o vetor dos inputs dado por  $\\vec{i} = [a_1, a_2, ..., a_n]$ e o vetor dos pesos dado $\\vec{p} = [b_1, b_2, ..., b_n]$, então o produto escalar entre $\\vec{i} \\cdot \\vec{p}$ é dado por:\n",
    "\n",
    "$${\\displaystyle \\mathbf {\\color {red}\\vec i} \\cdot \\mathbf {\\color {blue}\\vec p} =\\sum _{i=1}^{n}{\\color {red}a}_{i}{\\color {blue}b}_{i}={\\color {red}a}_{1}{\\color {blue}b}_{1}+{\\color {red}a}_{2}{\\color {blue}b}_{2}+\\cdots +{\\color {red}a}_{n}{\\color {blue}b}_{n}}$$\n",
    "\n",
    "Portanto, podemos dizer que o **Output** de um neurônio é igual ao produto escalar de seus inputs pelos seus respectivos pesos somado com uma constante.\n",
    "\n",
    "$$OUTPUT = \\underbrace{x[1] \\cdot w[1] + x[2] \\cdot w[2] + x[3] \\cdot w[3] + \\cdots + x[n] \\cdot w[n]}_{\\text{produto escalar}} + b$$\n",
    "\n",
    "$$OUTPUT =\\vec{i} \\cdot \\vec{p} + b$$\n",
    "\n",
    "Em numpy, podemos implementar a funcionalidade de produto escalar utlizando a função \n",
    "\n",
    "```\n",
    "np.dot()\n",
    "```\n",
    "Veja os exemplos abaixo.\n",
    "\n",
    "### **Exemplo 4 - Novamente, um neurônio, mas com numpy**"
   ]
  },
  {
   "cell_type": "code",
   "execution_count": 4,
   "metadata": {},
   "outputs": [
    {
     "name": "stdout",
     "output_type": "stream",
     "text": [
      "A saida de seu neurônio é: 5.03\n"
     ]
    }
   ],
   "source": [
    "# Importando bibliotecas\n",
    "import numpy as np\n",
    "\n",
    "input = [0, 1, 2]          # Entradas (Inputs) que serão feitas\n",
    "weight = [0.9, -1.3, 1.5]  # Pesos (Weights) que estão associados a cada entrada\n",
    "bias = 3.33                # Bias (Viés/Constante)\n",
    "\n",
    "# Saida\n",
    "output = np.dot(input, weight) + bias\n",
    "\n",
    "# Printa a saida do neurônio\n",
    "print(f'A saida de seu neurônio é: {output}')"
   ]
  },
  {
   "cell_type": "markdown",
   "metadata": {},
   "source": [
    "### **Exemplo 5 - Novamente, 40 neurônios, mas com numpy**"
   ]
  },
  {
   "cell_type": "code",
   "execution_count": 5,
   "metadata": {},
   "outputs": [
    {
     "name": "stdout",
     "output_type": "stream",
     "text": [
      "[3.308376216725263, 2.53690841151046, 1.5192259890276523, 2.3938587771869253, 3.169283781219934, 2.672011737437216, 3.5951142804956637, 2.750736243767254, 3.569680030473156, 2.3571862342886774, 3.1679685596034153, 3.2552151289359426, 2.2656555672517706, 2.507087281580275, 2.638004373532104, 2.9468902007933764, 2.605572596767281, 2.547154095703388, 2.8848481815014955, 2.6317019723968396, 2.5231034160425594, 2.8622356932218134, 1.348807746409992, 2.5919484983966066, 2.1949977925067348, 2.7130238936527267, 2.522596282644538, 3.5452044567320566, 2.546451833590546, 3.1144236053895726, 2.3029583256075146, 2.346476838593736, 2.6834677289354527, 2.003759506390894, 2.2664301890896543, 2.4366529061359428, 3.21281507187384, 3.2674567354850335, 2.323985297505505, 1.9573466748224169]\n"
     ]
    }
   ],
   "source": [
    "import numpy as np\n",
    "\n",
    "inputs = [rnd() for i in range(10)]                          # Gerando 10 números aleatórios de inputs \n",
    "weights = {i: [rnd() for j in range(10)] for i in range(40)} # Criando 40 neurônios com pesos aleatórios\n",
    "bias = [rnd() for i in range(40)]                            # Criando 10 viés/constantes com valores aleatórios\n",
    "\n",
    "saidas = []\n",
    "for neuron_wright, neuron_bias in zip(weights.values(), bias):\n",
    "    saidas.append(np.dot(inputs, neuron_wright) + neuron_bias)\n",
    "\n",
    "print(saidas)"
   ]
  },
  {
   "cell_type": "markdown",
   "metadata": {},
   "source": [
    "**Relatório 03 - PRIMEIRA PARTE:** \n",
    "\n",
    "1 - **Sem utilizar nenhuma biblioteca, faça um código em Python que modela apenas um neurônio. Esse nerônio deve ter como inputs**:\n",
    "\n",
    "$$inputs = [1.2, 0.45, -1.5, 1.9, 0.6]$$\n",
    "\n",
    "*e de ve ter como pesos*:\n",
    "\n",
    "$$weights = [1.5, 2.4, -2, 0.45, 2.8]$$\n",
    "\n",
    "2 - **Sem utilizar nenhuma biblioteca, faça um código em Python que modela apenas três neurônios. Esses nerônios deve ter como inputs**:\n",
    "\n",
    "$$inputs = [1.1, 2.2, 3.3, 4.4]$$\n",
    "\n",
    "*e deve ter como pesos*:\n",
    "\n",
    "$$weights = [[0.2, 0.44, -0.99, 2],\n",
    "[0.13, -0.95, 0.26, -0.5],\n",
    "[-0.26, -0.27, 1.17, 0.87]]$$\n",
    "\n",
    "3 - **Utlizando as bibliotecas random e numpy, faça um código em Python que modela vinte mil neurônios.**:\n",
    "\n",
    "4 - **Compare o tempo de execução do script com uso da biblioteca numpy com o script sem a biblioteca. OBS: Se necessário, utilize a biblioteca \"time\"**"
   ]
  },
  {
   "cell_type": "markdown",
   "metadata": {},
   "source": [
    "# **Referência Bibliográfica**\n",
    "\n",
    "1 - **Teoria Hebbeliana**. Disponível em: <https://en.wikipedia.org/wiki/Hebbian_theory>. Acessado em 10 de maio de 2022\n",
    "\n",
    "2 - **Bilioteca Numpy**. Disponível em: <https://pt.wikipedia.org/wiki/NumPy>. Acessado em 10 de maio de 2022.\n",
    "\n",
    "3 - **Why is Numpy faster in Python?**. Disponível em: <https://www.geeksforgeeks.org/why-numpy-is-faster-in-python/#:~:text=NumPy%20Arrays%20are%20faster%20than,in%20non%2Dcontiguous%20memory%20locations.>. Acessado em 10 de maio de 2022.\n",
    "\n",
    "4 - **Neural Nwtworks from Scratch in Python, Harrison Kinsley & Daniel Kukiela.**"
   ]
  }
 ],
 "metadata": {
  "interpreter": {
   "hash": "83db9ccd60aaba7f36d82c7c8a804da99e0bc213c9e856efe6e157fa32ac376b"
  },
  "kernelspec": {
   "display_name": "Python 3.9.0 64-bit",
   "language": "python",
   "name": "python3"
  },
  "language_info": {
   "codemirror_mode": {
    "name": "ipython",
    "version": 3
   },
   "file_extension": ".py",
   "mimetype": "text/x-python",
   "name": "python",
   "nbconvert_exporter": "python",
   "pygments_lexer": "ipython3",
   "version": "3.9.0"
  },
  "orig_nbformat": 4
 },
 "nbformat": 4,
 "nbformat_minor": 2
}
