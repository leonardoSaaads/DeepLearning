{
 "cells": [
  {
   "cell_type": "markdown",
   "metadata": {},
   "source": [
    "# **HANDS-ON 3: Criando os Primeiros Neurônios**\n",
    "\n",
    "Como vimos anteriormente, as redes neurais artificiais foram criadas com base em um cérebro orgânico. Apesar dos dois sistemas serem essencialmente diferentes, podemos realizar algumas comparações: Ambos possuem um elemento chamado de neurônio - palavra que deriva do grego e significa \"nervo\" - e que servem para a propagação/modificação de sinais.\n",
    "\n",
    "![](../Imagens/Unidade%201/modelo_neuronio.png)\n",
    "\n",
    "Link da imagem: [Clique Aqui](https://en.wikipedia.org/wiki/Artificial_neuron#/media/File:Neuron3.svg)\n",
    "\n",
    "Um único neurônio não é capaz de realizar grandes operações, contudo, quando em operação com diveros outros neurônios, o sistema adquire a robustez de operacionalizar tarefas complexas. Na imagem abaixo, temos um exemplo de rede neuronal.\n",
    "\n",
    "![](../Imagens/Unidade%201/exemplo_rede_neural.png)\n",
    "\n"
   ]
  },
  {
   "cell_type": "markdown",
   "metadata": {},
   "source": [
    "No decorrer do repositório, iremos utilizar a teoria Hebbeliana, isto é, um aumento na eficácia sináptica surge da estimulação repetida e persistente de uma célula pré-sináptica de uma célula pós-sináptica. O princípio de Hebb pode ser descrito como um método para determinar como alterar os pesos entre os neurônios modelo. O peso entre dois neurônios aumenta se os dois neurônios forem ativados simultaneamente e reduz se eles forem ativados separadamente. Os nós que tendem a ser positivos ou negativos ao mesmo tempo têm pesos positivos fortes, enquanto aqueles que tendem a ser opostos têm pesos negativos fortes.\n",
    "\n",
    "![](../Imagens/Unidade%201/exemplo_neuronio.png)\n",
    "\n",
    "Iremos utilizar a imagem acima para codificar o primeiro neurônio. Note podemos expressar a saida como sendo uma função - que o neurônio realiza - sobre cada entrada multiplicada pelo seu respectivo peso. Se denotarmos as entradas por $x[n]$, os pesos por $w[n]$ e $b$ uma constante, então:\n",
    "\n",
    "$$Output = x[1] * w[1] + x[2] * w[2] + x[3] * w[3] + \\cdots + x[n] * w[n] + b$$\n",
    "\n",
    "### **Exemplo 01 - O primeiro neurônio:**"
   ]
  },
  {
   "cell_type": "code",
   "execution_count": 28,
   "metadata": {},
   "outputs": [
    {
     "name": "stdout",
     "output_type": "stream",
     "text": [
      "A saida de seu neurônio é: 5.03\n"
     ]
    }
   ],
   "source": [
    "input = [0, 1, 2]          # Entradas (Inputs) que serão feitas\n",
    "weight = [0.9, -1.3, 1.5]  # Pesos (Weights) que estão associados a cada entrada\n",
    "bias = 3.33                # Bias (Viés/Constante)\n",
    "\n",
    "# Saida\n",
    "output = (input[0]*weight[0] +\n",
    "          input[1]*weight[1] +\n",
    "          input[2]*weight[2] + bias)\n",
    "\n",
    "# Printa a saida do neurônio\n",
    "print(f'A saida de seu neurônio é: {output}')"
   ]
  },
  {
   "cell_type": "markdown",
   "metadata": {},
   "source": [
    "Agora que entendemos como podemos programar um neurônio, iremos verificar como podemos expandir esse conceito e construir mais de um nerurônio. Neste segundo exemplo, iremos programar 4 neurônios.\n",
    "\n",
    "### **Exemplo 02 - Quatro neurônios**"
   ]
  },
  {
   "cell_type": "code",
   "execution_count": 29,
   "metadata": {},
   "outputs": [
    {
     "name": "stdout",
     "output_type": "stream",
     "text": [
      "A saida do primeiro neurônio é: 5.03\n",
      "A saida do segundo neurônio é: 5.84\n",
      "A saida do terceiro neurônio é: 3.9200000000000004\n",
      "A saida do quarto neurônio é: 2.1100000000000003\n"
     ]
    }
   ],
   "source": [
    "input = [0, 1, 2]           # Entradas (Inputs) que serão feitas\n",
    "\n",
    "weight_0 = [0.9, -1.3, 1.5] # Pesos (Weights) do primeiro neurônio\n",
    "weight_1 = [0.8, -1.4, 1.4] # Pesos (Weights) do segundo neurônio\n",
    "weight_2 = [0.7, -1.5, 1.6] # Pesos (Weights) do terceiro neurônio\n",
    "weight_3 = [0.6, -1.6, 1.3] # Pesos (Weights) do quarto neurônio\n",
    "\n",
    "bias_0 = 3.33               # Bias (Viés/Constante) do primeiro neurônio\n",
    "bias_1 = 4.44               # Bias (Viés/Constante) do segundo neurônio\n",
    "bias_2 = 2.22               # Bias (Viés/Constante) do terceiro neurônio\n",
    "bias_3 = 1.11               # Bias (Viés/Constante) do quarto neurônio\n",
    "\n",
    "# Primeiro Neurônio\n",
    "output_0 = (input[0]*weight_0[0] +\n",
    "            input[1]*weight_0[1] +\n",
    "            input[2]*weight_0[2] + bias_0)\n",
    "\n",
    "# Segundo Neurônio\n",
    "output_1 = (input[0]*weight_1[0] +\n",
    "            input[1]*weight_1[1] +\n",
    "            input[2]*weight_1[2] + bias_1)\n",
    "\n",
    "# Terceiro Neurônio\n",
    "output_2 = (input[0]*weight_2[0] +\n",
    "            input[1]*weight_2[1] +\n",
    "            input[2]*weight_2[2] + bias_2)\n",
    "\n",
    "# Quarto Neurônio\n",
    "output_3 = (input[0]*weight_3[0] +\n",
    "            input[1]*weight_3[1] +\n",
    "            input[2]*weight_3[2] + bias_3)\n",
    "\n",
    "print(f'A saida do primeiro neurônio é: {output_0}')\n",
    "print(f'A saida do segundo neurônio é: {output_1}')\n",
    "print(f'A saida do terceiro neurônio é: {output_2}')\n",
    "print(f'A saida do quarto neurônio é: {output_3}')"
   ]
  },
  {
   "cell_type": "markdown",
   "metadata": {},
   "source": [
    "### **Exemplo 3 - Quarenta Neurônios**\n",
    "\n",
    "Para programarmos 40 neurônios, iremos mudar a abordagem e automzatizar os resultados com a biblioteca **Random**."
   ]
  },
  {
   "cell_type": "code",
   "execution_count": 30,
   "metadata": {},
   "outputs": [
    {
     "name": "stdout",
     "output_type": "stream",
     "text": [
      "[3.664904334457117, 2.275832448488788, 3.7318904699380164, 2.631760979962661, 2.4652874687221473, 2.6010362017203836, 3.042924939290355, 2.7624137141142002, 2.903883777509586, 3.4592468522287536]\n"
     ]
    }
   ],
   "source": [
    "# Importando bibliotecas\n",
    "from random import random as rnd\n",
    "\n",
    "inputs = [rnd() for i in range(10)]                          # Gerando 10 números aleatórios de inputs \n",
    "weights = {i: [rnd() for j in range(10)] for i in range(40)} # Criando 40 neurônios com pesos aleatórios\n",
    "bias = [rnd() for i in range(10)]                            # Criando 10 viés/constantes com valores aleatórios\n",
    "\n",
    "saidas = []                                                  # Lista de saídas\n",
    "for neuron_wright, neuron_bias in zip(weights.values(), bias):\n",
    "    saidas.append(sum([i*j for i, j in zip(inputs, neuron_wright)]) + neuron_bias)\n",
    "\n",
    "print(saidas)"
   ]
  },
  {
   "cell_type": "markdown",
   "metadata": {},
   "source": [
    "Como podemos ver, realizar manualmente a programação dos naurônios é custoso e, devido a esse pressuposto, iremos utilizar a biblioteca **NumPy**. NumPy é uma biblioteca que suporta o processamento de grandes dados, multi-dimensionais arranjos e matrizes, juntamente com uma grande coleção de funções matemáticas de alto nível para operar sobre esses entes. \n",
    "\n",
    "Além de poupar tempo na programação, NumPy é uma biblioteca que foi desenvolvida para otimizar atividades em Python.\n",
    "* O pacote NumPy divide uma tarefa em vários fragmentos e processa todos os fragmentos paralelamente.\n",
    "* O pacote NumPy integra códigos C, C++ e Fortran em Python. Essas linguagens de programação têm muito pouco tempo de execução em comparação com o Python.\n",
    "\n",
    "### **Exemplo 4 - Novamente, um neurônio, mas com numpy**"
   ]
  },
  {
   "cell_type": "code",
   "execution_count": 31,
   "metadata": {},
   "outputs": [
    {
     "name": "stdout",
     "output_type": "stream",
     "text": [
      "A saida de seu neurônio é: 5.03\n"
     ]
    }
   ],
   "source": [
    "# Importando bibliotecas\n",
    "import numpy as np\n",
    "\n",
    "input = [0, 1, 2]          # Entradas (Inputs) que serão feitas\n",
    "weight = [0.9, -1.3, 1.5]  # Pesos (Weights) que estão associados a cada entrada\n",
    "bias = 3.33                # Bias (Viés/Constante)\n",
    "\n",
    "# Saida\n",
    "output = np.dot(input, weight) + bias\n",
    "\n",
    "# Printa a saida do neurônio\n",
    "print(f'A saida de seu neurônio é: {output}')"
   ]
  },
  {
   "cell_type": "markdown",
   "metadata": {},
   "source": [
    "### **Exemplo 5 - Novamente, 40 neurônios, mas com numpy**"
   ]
  },
  {
   "cell_type": "code",
   "execution_count": 32,
   "metadata": {},
   "outputs": [
    {
     "name": "stdout",
     "output_type": "stream",
     "text": [
      "[1.18322023870852, 2.190592024165915, 1.700489958183052, 1.8532850120226092, 1.7850856815965495, 1.8519331633835754, 2.519266934817108, 2.3186750158933678, 1.7917776347169412, 1.874607443326167]\n"
     ]
    }
   ],
   "source": [
    "import numpy as np\n",
    "\n",
    "inputs = [rnd() for i in range(10)]                          # Gerando 10 números aleatórios de inputs \n",
    "weights = {i: [rnd() for j in range(10)] for i in range(40)} # Criando 40 neurônios com pesos aleatórios\n",
    "bias = [rnd() for i in range(10)]                            # Criando 10 viés/constantes com valores aleatórios\n",
    "\n",
    "saidas = []\n",
    "for neuron_wright, neuron_bias in zip(weights.values(), bias):\n",
    "    saidas.append(np.dot(inputs, neuron_wright) + neuron_bias)\n",
    "\n",
    "print(saidas)"
   ]
  },
  {
   "cell_type": "markdown",
   "metadata": {},
   "source": [
    "**Relatório 03:** \n",
    "\n",
    "1 - **Sem utilizar nenhuma biblioteca, faça um código em Python que modela apenas um neurônio. Esse nerônio deve ter como inputs**:\n",
    "\n",
    "$$inputs = [1.2, 0.45, -1.5, 1.9, 0.6]$$\n",
    "\n",
    "*e de ve ter como pesos*:\n",
    "\n",
    "$$weights = [1.5, 2.4, -2, 0.45, 2.8]$$\n",
    "\n",
    "2 - **Sem utilizar nenhuma biblioteca, faça um código em Python que modela apenas três neurônios. Esses nerônios deve ter como inputs**:\n",
    "\n",
    "$$inputs = [1.1, 2.2, 3.3, 4.4]$$\n",
    "\n",
    "*e deve ter como pesos*:\n",
    "\n",
    "$$weights = [[0.2, 0.8, -0.5, 1],\n",
    "[0.5, -0.91, 0.26, -0.5],\n",
    "[-0.26, -0.27, 0.17, 0.87]]$$\n",
    "\n",
    "3 - **Utlizando as bibliotecas random e numpy, faça um código em Python que modela vinte mil neurônios.**:\n",
    "\n",
    "4 - **Compare o tempo de execução do script com uso da biblioteca numpy com o script sem a biblioteca. OBS: Se necessário, utilize a biblioteca \"time\"**"
   ]
  },
  {
   "cell_type": "markdown",
   "metadata": {},
   "source": [
    "# **Referência Bibliográfica**\n",
    "\n",
    "1 - Teoria Hebbeliana. Disponível em: <https://en.wikipedia.org/wiki/Hebbian_theory>. Acessado em 10 de maio de 2022\n",
    "\n",
    "2 - Bilioteca Numpy. Disponível em: <https://pt.wikipedia.org/wiki/NumPy>. Acessado em 10 de maio de 2022.\n",
    "\n",
    "3 - Why is Numpy faster in Python?. Disponível em: <https://www.geeksforgeeks.org/why-numpy-is-faster-in-python/#:~:text=NumPy%20Arrays%20are%20faster%20than,in%20non%2Dcontiguous%20memory%20locations.>. Acessado em 10 de maio de 2022."
   ]
  }
 ],
 "metadata": {
  "interpreter": {
   "hash": "83db9ccd60aaba7f36d82c7c8a804da99e0bc213c9e856efe6e157fa32ac376b"
  },
  "kernelspec": {
   "display_name": "Python 3.9.0 64-bit",
   "language": "python",
   "name": "python3"
  },
  "language_info": {
   "codemirror_mode": {
    "name": "ipython",
    "version": 3
   },
   "file_extension": ".py",
   "mimetype": "text/x-python",
   "name": "python",
   "nbconvert_exporter": "python",
   "pygments_lexer": "ipython3",
   "version": "3.9.0"
  },
  "orig_nbformat": 4
 },
 "nbformat": 4,
 "nbformat_minor": 2
}
